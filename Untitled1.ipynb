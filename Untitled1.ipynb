{
 "cells": [
  {
   "cell_type": "code",
   "execution_count": 10,
   "id": "61a88380-8ac4-41a5-b63e-6910a6cb5b95",
   "metadata": {},
   "outputs": [
    {
     "name": "stdout",
     "output_type": "stream",
     "text": [
      "(1, 'Rohan', 22, 'staff')\n",
      "(2, 'Athrav', 25, 'clerk')\n",
      "(3, 'Mehul', 20, 'software-tester')\n",
      "(4, 'Rohan', 22, 'staff')\n",
      "(5, 'Athrav', 25, 'clerk')\n",
      "(6, 'Mehul', 20, 'software-tester')\n"
     ]
    }
   ],
   "source": [
    "import sqlite3\n",
    "\n",
    "# Connect to the SQLite database\n",
    "con = sqlite3.connect('C:/Users/Pccoe/Desktop/sample.db')\n",
    "cur = con.cursor()\n",
    "\n",
    "\n",
    "\n",
    "# Create the 'employee' table with the correct schema\n",
    "cur.execute('''CREATE TABLE IF NOT EXISTS employee (\n",
    "                id INTEGER PRIMARY KEY AUTOINCREMENT,\n",
    "                name TEXT NOT NULL,\n",
    "                age INTEGER,\n",
    "                position TEXT\n",
    "            )''')\n",
    "\n",
    "# Insert sample data into the 'employee' table\n",
    "cur.execute(\"INSERT INTO employee (name, age, position) VALUES ('Rohan', 22, 'staff')\")\n",
    "cur.execute(\"INSERT INTO employee (name, age, position) VALUES ('Athrav', 25, 'clerk')\")\n",
    "cur.execute(\"INSERT INTO employee (name, age, position) VALUES ('Mehul', 20, 'software-tester')\")\n",
    "\n",
    "# Commit the changes to the database\n",
    "con.commit()\n",
    "\n",
    "# Query the data to ensure it's correctly inserted\n",
    "cur.execute(\"SELECT * FROM employee\")\n",
    "rows = cur.fetchall()\n",
    "\n",
    "# Display the results\n",
    "for row in rows:\n",
    "    print(row)\n",
    "\n",
    "# Close the connection to the database\n",
    "con.close()\n"
   ]
  },
  {
   "cell_type": "code",
   "execution_count": 5,
   "id": "13dbade2-bed9-4799-bfd0-00e44e53d35f",
   "metadata": {},
   "outputs": [
    {
     "name": "stdout",
     "output_type": "stream",
     "text": [
      "   id    name  age            grade\n",
      "0   1   Rohan   22            staff\n",
      "1   2  Athrav   25            clerk\n",
      "2   3   Mehul   20  software-tester\n"
     ]
    }
   ],
   "source": [
    "import sqlite3\n",
    "import pandas as pd\n",
    "\n",
    "# Connect to the SQLite database\n",
    "conn = sqlite3.connect('C:/Users/Pccoe/Desktop/sample.db')\n",
    "\n",
    "# Query the data from the 'employee' table\n",
    "query = \"SELECT * FROM employee\"\n",
    "df = pd.read_sql_query(query, conn)\n",
    "\n",
    "# Display the DataFrame\n",
    "print(df)\n",
    "\n",
    "# Close the connection\n",
    "conn.close()\n"
   ]
  },
  {
   "cell_type": "code",
   "execution_count": null,
   "id": "d62cc064-ed5c-45f1-a068-936b23beb234",
   "metadata": {},
   "outputs": [],
   "source": []
  }
 ],
 "metadata": {
  "kernelspec": {
   "display_name": "Python 3 (ipykernel)",
   "language": "python",
   "name": "python3"
  },
  "language_info": {
   "codemirror_mode": {
    "name": "ipython",
    "version": 3
   },
   "file_extension": ".py",
   "mimetype": "text/x-python",
   "name": "python",
   "nbconvert_exporter": "python",
   "pygments_lexer": "ipython3",
   "version": "3.12.4"
  }
 },
 "nbformat": 4,
 "nbformat_minor": 5
}
